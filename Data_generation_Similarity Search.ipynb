{
 "cells": [
  {
   "cell_type": "markdown",
   "metadata": {},
   "source": [
    "# Data_generation_Similarity Search\n",
    "\n",
    "## About the Dataset:\n",
    "## Context: Dataset  contains 1,000,000 records where each record shows the information about individual persons food preferences\n"
   ]
  },
  {
   "cell_type": "code",
   "execution_count": 7,
   "metadata": {},
   "outputs": [],
   "source": [
    "import numpy as np\n",
    "import random\n",
    "import csv\n",
    "\n",
    "object_list = []\n",
    "N= 1000000\n",
    "\n",
    "word_list = [\"vegetable\",\"Rice\", \"Fish\",\"Beef\",\"Mutton\",\"Chicken\",\"Pork\",\"Lamb\",\"Bread\",\"Milk\", \"Cake\",\"Juice\",\"Fries\",\"Coffee\"\n",
    "            ,\"Tea\",\"Sof Drinks\",\"Apple\",\"Banana\",\"Orange\",\"Grape\"]\n",
    "\n",
    "# Generate N records using Permutation\n",
    "with open(\"object_file.csv\",'w',newline='\\n')as file:\n",
    "    while len(object_list) < N:                            \n",
    "        obj= np.random.permutation(word_list).tolist()   #Return one permutation of word_list\n",
    "        if obj not in object_list:\n",
    "            object_list.append(obj)\n",
    "            wr = csv.writer(file, quoting=csv.QUOTE_NONE) #Removing quote\n",
    "            wr.writerow(obj)\n",
    "            \n",
    "file.close()  "
   ]
  }
 ],
 "metadata": {
  "kernelspec": {
   "display_name": "Python 3",
   "language": "python",
   "name": "python3"
  },
  "language_info": {
   "codemirror_mode": {
    "name": "ipython",
    "version": 3
   },
   "file_extension": ".py",
   "mimetype": "text/x-python",
   "name": "python",
   "nbconvert_exporter": "python",
   "pygments_lexer": "ipython3",
   "version": "3.6.5"
  }
 },
 "nbformat": 4,
 "nbformat_minor": 2
}
